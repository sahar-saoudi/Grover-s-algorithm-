{
 "cells": [
  {
   "cell_type": "code",
   "execution_count": null,
   "metadata": {},
   "outputs": [],
   "source": [
    "from qiskit_aer import AerSimulator\n",
    "from sympy import symbols, And, Or, Not\n",
    "from grover_build import solve_sat_with_grover\n",
    "from grover_utils import cnf_to_oracle"
   ]
  },
  {
   "cell_type": "markdown",
   "metadata": {},
   "source": [
    "### Initialisation des formes logiques conjonctives"
   ]
  },
  {
   "cell_type": "code",
   "execution_count": null,
   "metadata": {},
   "outputs": [],
   "source": [
    "# Gateau logical formula\n",
    "E, B, C, A, D = symbols(\"E B C A D\")\n",
    "gateau_formula = And(\n",
    "    Or(And(Not(E), Not(B)), And(E, B)),\n",
    "    Or(And(Not(C), E), And(C, Not(E))),\n",
    "    Or(And(E, A), And(Not(E), Not(A))),\n",
    "    Or(And(C, Not(B)), And(Not(C), B)),\n",
    "    Or(And(D, A), And(Not(D), Not(A))),\n",
    ")  \n",
    "\n",
    "# Pincus logical formula\n",
    "w, x, y, z = symbols(\"w x y z\")\n",
    "pincus_formula = And(\n",
    "    Or(y, w, z),\n",
    "    Or(Not(w), z, x),\n",
    "    Or(y, Not(z), x),\n",
    "    Or(Not(x), z, Not(y)),\n",
    "    Or(Not(w), y, Not(x)),\n",
    "    Or(x, Not(y), w),\n",
    "    Or(Not(w), Not(z), Not(y)),\n",
    ")"
   ]
  },
  {
   "cell_type": "markdown",
   "metadata": {},
   "source": [
    "### Test de la formule du gateau"
   ]
  },
  {
   "cell_type": "code",
   "execution_count": null,
   "metadata": {},
   "outputs": [],
   "source": [
    "gateau_solutions = solve_sat_with_grover(gateau_formula, cnf_to_oracle, AerSimulator())\n",
    "for solution in gateau_solutions:\n",
    "    is_solution_correct = gateau_formula.subs(solution)\n",
    "    if is_solution_correct:\n",
    "        print(f\"The solution {solution} is correct!\")\n",
    "    else:\n",
    "        print(f\"The solution {solution} is wrong...\")"
   ]
  },
  {
   "cell_type": "markdown",
   "metadata": {},
   "source": [
    "### Test de la formule de pincus"
   ]
  },
  {
   "cell_type": "code",
   "execution_count": null,
   "metadata": {},
   "outputs": [],
   "source": [
    "pincus_solutions = solve_sat_with_grover(pincus_formula, cnf_to_oracle, AerSimulator())\n",
    "for solution in pincus_solutions:\n",
    "    is_solution_correct = pincus_formula.subs(solution)\n",
    "    if is_solution_correct:\n",
    "        print(f\"The solution {solution} is correct!\")\n",
    "    else:\n",
    "        print(f\"The solution {solution} is wrong...\")"
   ]
  }
 ],
 "metadata": {
  "kernelspec": {
   "display_name": "env",
   "language": "python",
   "name": "python3"
  },
  "language_info": {
   "codemirror_mode": {
    "name": "ipython",
    "version": 3
   },
   "file_extension": ".py",
   "mimetype": "text/x-python",
   "name": "python",
   "nbconvert_exporter": "python",
   "pygments_lexer": "ipython3",
   "version": "3.11.6"
  }
 },
 "nbformat": 4,
 "nbformat_minor": 2
}
